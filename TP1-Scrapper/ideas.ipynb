{
 "cells": [
  {
   "cell_type": "code",
   "execution_count": 7,
   "id": "bottom-calvin",
   "metadata": {},
   "outputs": [],
   "source": [
    "import requests"
   ]
  },
  {
   "cell_type": "code",
   "execution_count": 17,
   "id": "casual-british",
   "metadata": {},
   "outputs": [],
   "source": [
    "response = requests.get(\"https://www.cinepolis.com.ar/\")"
   ]
  },
  {
   "cell_type": "code",
   "execution_count": null,
   "id": "adverse-profile",
   "metadata": {},
   "outputs": [],
   "source": [
    "html = response.text\n",
    "html"
   ]
  },
  {
   "cell_type": "code",
   "execution_count": null,
   "id": "atmospheric-rainbow",
   "metadata": {},
   "outputs": [],
   "source": [
    "from bs4 import BeautifulSoup\n",
    "\n",
    "soup = BeautifulSoup(html, 'html.parser')\n",
    "\n",
    "soup"
   ]
  },
  {
   "cell_type": "code",
   "execution_count": 26,
   "id": "single-reason",
   "metadata": {},
   "outputs": [
    {
     "data": {
      "text/plain": [
       "['Los Nuevos Mutantes',\n",
       " 'Fate Stay Night Heaven’s Feel: Parte 3',\n",
       " 'Godzilla vs. Kong',\n",
       " 'Los Nuevos Mutantes',\n",
       " 'La verdad',\n",
       " 'Retrato de una mujer en llamas',\n",
       " 'Caos: El Inicio',\n",
       " 'Cicatrices',\n",
       " 'Freaky: Este cuerpo está para matar',\n",
       " 'En guerra con mi abuelo',\n",
       " 'El Padre',\n",
       " 'Nomadland',\n",
       " 'De la noche a la mañana',\n",
       " 'Z',\n",
       " 'Venganza Implacable',\n",
       " 'Habitación 212',\n",
       " 'Black Widow',\n",
       " 'Free Guy: Tomando el control',\n",
       " 'Una extraña obsesión',\n",
       " 'Espiral: El juego del miedo continúa',\n",
       " 'Cruella',\n",
       " 'Un lugar en silencio 2',\n",
       " 'Luca',\n",
       " 'En el barrio',\n",
       " 'Golden Voices',\n",
       " 'Top Gun: Maverick',\n",
       " 'Fast & Furious 9',\n",
       " 'Jungle Cruise',\n",
       " 'El territorio del amor',\n",
       " 'Candyman',\n",
       " '007: Sin tiempo para morir',\n",
       " 'Espíritus oscuros']"
      ]
     },
     "execution_count": 26,
     "metadata": {},
     "output_type": "execute_result"
    }
   ],
   "source": [
    "movies = [json.loads(movie.get(':movie')) for movie in soup.select('movie-thumb')]\n",
    "\n",
    "movies_title = [m.get('title_translated') for m in movies]\n",
    "movies_title"
   ]
  },
  {
   "cell_type": "code",
   "execution_count": null,
   "id": "biological-enlargement",
   "metadata": {},
   "outputs": [],
   "source": []
  }
 ],
 "metadata": {
  "kernelspec": {
   "display_name": "Python 3",
   "language": "python",
   "name": "python3"
  },
  "language_info": {
   "codemirror_mode": {
    "name": "ipython",
    "version": 3
   },
   "file_extension": ".py",
   "mimetype": "text/x-python",
   "name": "python",
   "nbconvert_exporter": "python",
   "pygments_lexer": "ipython3",
   "version": "3.8.5"
  }
 },
 "nbformat": 4,
 "nbformat_minor": 5
}
