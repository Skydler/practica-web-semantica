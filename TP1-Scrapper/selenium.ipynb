{
 "cells": [
  {
   "cell_type": "code",
   "execution_count": 2,
   "id": "motivated-cabin",
   "metadata": {},
   "outputs": [],
   "source": [
    "URL = \"https://www.cinepolis.com.ar/\""
   ]
  },
  {
   "cell_type": "markdown",
   "id": "coupled-zimbabwe",
   "metadata": {},
   "source": [
    "# Setup"
   ]
  },
  {
   "cell_type": "code",
   "execution_count": 147,
   "id": "graduate-excitement",
   "metadata": {},
   "outputs": [],
   "source": [
    "from selenium import webdriver\n",
    "\n",
    "options = webdriver.ChromeOptions()\n",
    "options.add_argument('--incognito')\n",
    "driver = webdriver.Chrome(executable_path=\"./chromedriver\", options=options)\n",
    "\n",
    "driver.get(URL)"
   ]
  },
  {
   "cell_type": "code",
   "execution_count": 146,
   "id": "handled-cooperation",
   "metadata": {},
   "outputs": [],
   "source": [
    "driver.close()"
   ]
  },
  {
   "cell_type": "markdown",
   "id": "local-israel",
   "metadata": {},
   "source": [
    "# Process 1 movie"
   ]
  },
  {
   "cell_type": "code",
   "execution_count": 7,
   "id": "medical-immigration",
   "metadata": {},
   "outputs": [
    {
     "data": {
      "text/plain": [
       "['https://www.cinepolis.com.ar/peliculas/fate-stay-night-heavens-feel-parte-3',\n",
       " 'https://www.cinepolis.com.ar/peliculas/godzilla-vs-kong',\n",
       " 'https://www.cinepolis.com.ar/peliculas/la-noche-mas-larga',\n",
       " 'https://www.cinepolis.com.ar/peliculas/los-intrusos',\n",
       " 'https://www.cinepolis.com.ar/peliculas/la-fabrica-de-suenos',\n",
       " 'https://www.cinepolis.com.ar/peliculas/calles-en-guerra',\n",
       " 'https://www.cinepolis.com.ar/peliculas/corpus-christi',\n",
       " 'https://www.cinepolis.com.ar/peliculas/mujer-maravilla-1984',\n",
       " 'https://www.cinepolis.com.ar/peliculas/el-secreto-del-bosque',\n",
       " 'https://www.cinepolis.com.ar/peliculas/la-noche-magica',\n",
       " 'https://www.cinepolis.com.ar/peliculas/la-leyenda-de-la-viuda',\n",
       " 'https://www.cinepolis.com.ar/peliculas/tom-y-jerry',\n",
       " 'https://www.cinepolis.com.ar/peliculas/tenet',\n",
       " 'https://www.cinepolis.com.ar/peliculas/trolls-2-gira-mundial',\n",
       " 'https://www.cinepolis.com.ar/peliculas/malasana-32',\n",
       " 'https://www.cinepolis.com.ar/peliculas/las-brujas']"
      ]
     },
     "execution_count": 7,
     "metadata": {},
     "output_type": "execute_result"
    }
   ],
   "source": [
    "movies = driver.find_elements_by_xpath(\"//div[contains(@class, 'movie-grid')]/div/a\")\n",
    "movies_links = [m.get_attribute('href') for m in movies]\n",
    "movies_links"
   ]
  },
  {
   "cell_type": "code",
   "execution_count": 8,
   "id": "occasional-array",
   "metadata": {},
   "outputs": [
    {
     "data": {
      "text/plain": [
       "'https://www.cinepolis.com.ar/peliculas/fate-stay-night-heavens-feel-parte-3'"
      ]
     },
     "execution_count": 8,
     "metadata": {},
     "output_type": "execute_result"
    }
   ],
   "source": [
    "link = movies_links[0]\n",
    "link"
   ]
  },
  {
   "cell_type": "code",
   "execution_count": 9,
   "id": "distinct-pressing",
   "metadata": {},
   "outputs": [],
   "source": [
    "driver.get(link)"
   ]
  },
  {
   "cell_type": "code",
   "execution_count": 10,
   "id": "round-bedroom",
   "metadata": {},
   "outputs": [
    {
     "data": {
      "text/plain": [
       "'FATE STAY NIGHT HEAVEN’S FEEL: PARTE 3'"
      ]
     },
     "execution_count": 10,
     "metadata": {},
     "output_type": "execute_result"
    }
   ],
   "source": [
    "title = driver.find_element_by_css_selector(\".title > * > .title-text\")\n",
    "title.text"
   ]
  },
  {
   "cell_type": "code",
   "execution_count": 12,
   "id": "industrial-bullet",
   "metadata": {},
   "outputs": [
    {
     "data": {
      "text/plain": [
       "'¡La historia de Fate Stay Night Heaven’s Feel llega a su fin!El capítulo final de la trilogía más ambiciosa y oscura de esta franquicia está aquí. Sakura Matou con los pecados que ha cometido se hunde en la oscuridad, Shirou Emiya ha jurado protegerla y detener la Guerra por el Santo Grial, una guerra dónde poderosos Magos y Espíritus Heroicos trabajan juntos para derrotar a los demás, el vencedor obtendrá el Santo Grial, un contenedor que puede hacer realidad cualquier deseo… Pero esta guerra ha corrompido al Grial. ¿Podrá Shirou salvar a Sakura? ¿Cuál será el precio de esto?'"
      ]
     },
     "execution_count": 12,
     "metadata": {},
     "output_type": "execute_result"
    }
   ],
   "source": [
    "synopsis = driver.find_element_by_css_selector(\"#sinopsis\")\n",
    "synopsis.text"
   ]
  },
  {
   "cell_type": "code",
   "execution_count": 191,
   "id": "mediterranean-combination",
   "metadata": {},
   "outputs": [
    {
     "data": {
      "text/plain": [
       "{'Título Original': 'The widow',\n",
       " 'Género': '',\n",
       " 'Calificación': 'P-13',\n",
       " 'Duración': '86 min.',\n",
       " 'Distribuidora': 'BF Paris'}"
      ]
     },
     "execution_count": 191,
     "metadata": {},
     "output_type": "execute_result"
    }
   ],
   "source": [
    "html = driver.find_element_by_xpath(\"//*[@id='tecnicos']\").get_attribute(\"innerHTML\")\n",
    "\n",
    "from scrapy.selector import Selector\n",
    "\n",
    "fields_content = Selector(text=html).xpath(\"//p/text()\").getall()\n",
    "fields_content = [field.strip(': \\n') for field in fields_content if field.strip()]\n",
    "\n",
    "fields_name = Selector(text=html).xpath(\"//p/strong/text()\").getall()\n",
    "\n",
    "dict(zip(fields_name, fields_content))"
   ]
  },
  {
   "cell_type": "code",
   "execution_count": 144,
   "id": "passing-tsunami",
   "metadata": {},
   "outputs": [
    {
     "name": "stdout",
     "output_type": "stream",
     "text": [
      "\n",
      "Origin: Japón,\n",
      "Genres: Animación, Romance, Fantasía, Acción, Drama,\n",
      "Director: Tomonori Sudô,\n",
      "Actors: Noriaki Sugiyama, Noriko Shitaya, Ayako Kawasumi, Kana Ueda, Mai Kadowaki, Miki Itō, Jouji Nakata, Masane Tsukayama, Yū Asakawa, Tetsu Inada,\n",
      "Rated: N/A,\n",
      "Duration: 123 min.\n",
      "\n"
     ]
    }
   ],
   "source": [
    "origin, genres, director, actors, rated, duration = fields\n",
    "\n",
    "print(f\"\"\"\n",
    "Origin: {origin},\n",
    "Genres: {genres},\n",
    "Director: {director},\n",
    "Actors: {actors},\n",
    "Rated: {rated},\n",
    "Duration: {duration}\n",
    "\"\"\")"
   ]
  },
  {
   "cell_type": "markdown",
   "id": "grand-warning",
   "metadata": {},
   "source": [
    "# Process N movies"
   ]
  },
  {
   "cell_type": "code",
   "execution_count": 186,
   "id": "recorded-horizon",
   "metadata": {},
   "outputs": [
    {
     "data": {
      "application/json": [
       {
        "actors": "noriaki sugiyama, noriko shitaya, ayako kawasumi, kana ueda, mai kadowaki, miki itō, jouji nakata, masane tsukayama, yū asakawa, tetsu inada",
        "director": "tomonori sudô",
        "distributor": null,
        "duration": "123 min.",
        "genres": "animación, romance, fantasía, acción, drama",
        "origin": "japón",
        "rated": "n/a",
        "synopsis": "¡La historia de Fate Stay Night Heaven’s Feel llega a su fin!El capítulo final de la trilogía más ambiciosa y oscura de esta franquicia está aquí. Sakura Matou con los pecados que ha cometido se hunde en la oscuridad, Shirou Emiya ha jurado protegerla y detener la Guerra por el Santo Grial, una guerra dónde poderosos Magos y Espíritus Heroicos trabajan juntos para derrotar a los demás, el vencedor obtendrá el Santo Grial, un contenedor que puede hacer realidad cualquier deseo… Pero esta guerra ha corrompido al Grial. ¿Podrá Shirou salvar a Sakura? ¿Cuál será el precio de esto?",
        "title": "FATE STAY NIGHT HEAVEN’S FEEL: PARTE 3"
       },
       {
        "actors": "alexander skarsgård, millie bobby brown, kyle chandler, rebecca hall, brian tyree henry, shun oguri, eiza gonzález, jessica henwick, julian dennison, demián bichir",
        "director": "adam wingard",
        "distributor": "warner bros.",
        "duration": "113 min.",
        "genres": "acción, aventura, ciencia ficción, thriller",
        "origin": "estados unidos",
        "rated": "n/a",
        "synopsis": "Godzilla y Kong, dos de las fuerzas más poderosas de un planeta habitado por todo tipo de aterradoras criaturas, se enfrentan en un espectacular combate que sacude los cimientos de la humanidad. Monarch (Kyle Chandler) se embarca en una misión de alto riesgo y pone rumbo hacia territorios inexplorados para descubrir los orígenes de estos dos titanes, en un último esfuerzo por tratar de salvar a dos bestias que parecen tener las horas contadas sobre la faz de la Tierra.",
        "title": "GODZILLA VS. KONG"
       },
       {
        "actors": "daniel aráoz, sofia bono prado, constanza villarruel, rocío figueroa sobrero, romina arietti, camila murias, sabrina nuñez, paula halaban, ariel martínez morán",
        "director": "moroco colman",
        "distributor": "cinetren",
        "duration": "70 min.",
        "genres": "drama, thriller, biografía, documental",
        "origin": "argentina",
        "rated": "n/a",
        "synopsis": "Basada en hechos reales, La Noche Más Larga narra la historia de Marcelo Sajen, un hombre que aparentaba ser un padre y esposo ejemplar, mientras se convertía en el violador serial más conocido de la historia Argentina.",
        "title": "LA NOCHE MÁS LARGA"
       },
       {
        "actors": "maisie williams, sylvester mccoy, rita tushingham, jake curran, andrew ellis, ian kenny, stacha hicks",
        "director": "julius berg",
        "distributor": "bf paris",
        "duration": "92 min.",
        "genres": "thriller, terror",
        "origin": "reino unido",
        "rated": "n/a",
        "synopsis": "Inglaterra rural, principios de los noventa: los amigos de la infancia Nathan y Terry son inducidos por el sociópata local para robar a los Huggins, un médico anciano y su esposa. La novia de Nathan, Mary, está totalmente en contra del plan, pero al cabo de unas horas se encuentra en el caserón, al lado de la caja fuerte del sótano y de una panda de individuos, a cual más sospechoso.",
        "title": "LOS INTRUSOS"
       },
       {
        "actors": "dennis mojen, emilia schüle, heiner lauterbach, ken duken, nikolai kinski, ellenie salvo gonzález, michael gwisdek, thomas heinze, wilfried hochholdinger, lilian mazbouh",
        "director": "martin schreier",
        "distributor": "irazabal film",
        "duration": "125 min.",
        "genres": "drama, comedia, romance",
        "origin": "alemania",
        "rated": "n/a",
        "synopsis": "Durante el verano de 1961, Emil comienza a trabajar como extra en los famosos estudios de cine Babelsberg. Durante el rodaje de una superproducción, se enamora de la bailarina francesa llamada Milou. Cuando por fin conquista a Milou, el rodaje se cancela repentinamente y son obligados a separarse ya que El Muro de Berlín es levantado en agosto de ese año. Años más tarde, Emil trazará un atrevido y arriesgado plan para lograr que el rodaje continúe y reencontrarse con Milou.",
        "title": "LA FÁBRICA DE SUEÑOS"
       },
       {
        "actors": "jean-claude van damme, david castañeda, joana metrass, elijah rodriguez, nicholas sean johnny, charlie macgechan, dean john-wilson, jim caesar, kerry bennett, uriel emil pollack",
        "director": "lior geller",
        "distributor": "digicine",
        "duration": "92 min.",
        "genres": "drama, acción, thriller",
        "origin": "bulgaria, estados unidos",
        "rated": "p-16",
        "synopsis": "Lucas, un niño de 14 años que se incorporó a la vida de las pandillas en Washington, D.C., está decidido a que su hermano de 10 años no siga el mismo camino. Cuando un veterano de la guerra de Afganistán llega al vecindario, surge una oportunidad.",
        "title": "CALLES EN GUERRA"
       },
       {
        "actors": "bartosz bielenia, aleksandra konieczna, eliza rycembel, tomasz ziętek, leszek lichota, barbara kurzaj, łukasz simlat, zdzisław wardejn, anna biernacik, lidia bogacz",
        "director": "jan komasa",
        "distributor": "mirada distribution srl",
        "duration": "116 min.",
        "genres": "drama",
        "origin": "polonia",
        "rated": "n/a",
        "synopsis": "Daniel atraviesa una transformación espiritual en un centro de detención. Aunque su historial criminal le impide aplicar a un seminario, decide seguir su sueño y se pone al frente de una parroquia en un pequeño pueblo.",
        "title": "CORPUS CHRISTI"
       },
       {
        "actors": "gal gadot, chris pine, kristen wiig, pedro pascal, connie nielsen, robin wright, gabriella wilde, natasha rothwell, ravi patel, oakley bull",
        "director": "patty jenkins",
        "distributor": "warner bros.",
        "duration": "150 min.",
        "genres": "acción, ciencia ficción",
        "origin": "estados unidos",
        "rated": "p-13",
        "synopsis": "En 1984, en plena Guerra Fría, Diana Prince, conocida como Wonder Woman, se enfrenta al empresario Maxwell Lord y a su antigua amiga Barbara Minerva / Cheetah, una villana que posee fuerza y agilidad sobrehumanas.",
        "title": "MUJER MARAVILLA 1984"
       },
       {
        "actors": "vanessa curry, sahil shroff, subrat dutta, tvisha seema, tanvi shinde, apoorva arora, mohit hiranandani, abheer meherish, rhea harwani, rajesh arya",
        "director": "vikram jayakumar",
        "distributor": null,
        "duration": "86 min.",
        "genres": "terror, thriller, misterio",
        "origin": "estados unidos",
        "rated": "p-13",
        "synopsis": "Durante una escapada romántica en el desierto indio, una pareja de Los Ángeles fue testigo accidental del exorcismo inquietante de una niña de 11 años. Deciden rescatarla.",
        "title": "EL SECRETO DEL BOSQUE"
       },
       {
        "actors": "natalia oreiro, diego peretti, pablo rago, esteban bigliardi, hernán jiménez, laura lópez moyano, isabela palópoli",
        "director": "gastón portal",
        "distributor": "buena vista international",
        "duration": "98 min.",
        "genres": "thriller",
        "origin": "argentina",
        "rated": "p-16",
        "synopsis": "La Noche Mágica, la película protagonizada por Natalia Oreiro y Diego Peretti, llega a los cines argentinos el 11 de marzo. El film, una innovadora comedia dramática con ritmo y suspenso de thriller, dirigida por Gastón Portal, cuenta también con las actuaciones de Pablo Rago y Esteban Bigliardi. Está producida por Aeroplano. La Noche Mágica transcurre durante Nochebuena en una casa en San Isidro. Kira (Natalia Oreiro) y su amante Cachete (Pablo Rago), se encuentran en el dormitorio cuando oyen llegar a Juan (Esteban Bigliardi), el marido de Kira. Pero cuando Cachete se esconde en el balcón, se encuentra con algo peor; NICOLA (Diego Peretti), un excéntrico ladrón que, como Papa Noel lleva una barba blanca y un gorro rojo, ha venido a robar el domicilio. Nicola procede a esposar a todos los presentes pero el atraco se complica cuando se encuentra con Alicia, la pequeña hija del matrimonio, quien apenas lo ve le extiende una lista de deseos… Una producción de Aeroplano, en coproducción con World Media (Uruguay), DirecTV, Diego Kolankowsky y Silvia Rodriguez; en asociación con Welavit, RBS, Film Suez, Ketama, TeDigoQue y Dk Entertainment.",
        "title": "LA NOCHE MÁGICA"
       },
       {
        "actors": null,
        "director": null,
        "distributor": "bf paris",
        "duration": "86 min.",
        "genres": "",
        "origin": null,
        "rated": "p-13",
        "synopsis": "En una zona densamente arbolada al norte de San Petersburgo, personas han desaparecido durante tres décadas. Los pocos cadáveres encontrados estaban desnudos. El 14 de octubre de 2017, un equipo de voluntarios salió al bosque en busca de un adolescente desaparecido. Pronto, toda comunicación con ellos se perdió. Los lugareños creen que fueron tomados por el mismo espíritu oscuro que tomó a los demás: LA VIUDA.",
        "title": "LA LEYENDA DE LA VIUDA"
       },
       {
        "actors": "william hanna, mel blanc, june foray, frank welker, t-pain, nicky jam, bobby cannavale, lil rel howery, chloë grace moretz, michael peña",
        "director": "tim story",
        "distributor": "warner",
        "duration": "101 min.",
        "genres": "acción, comedia, familia, animación, aventura",
        "origin": "estados unidos",
        "rated": "atp",
        "synopsis": "Tom el gato y Jerry el ratón son expulsados de su casa y se trasladan a un elegante hotel de Nueva York, donde una empleada descuidada llamada Kayla perderá su trabajo si no puede desalojar a Jerry antes de una boda de clase alta en el hotel. ¿Su solución? Contratar a Tom para deshacerse del molesto ratón.",
        "title": "TOM Y JERRY"
       },
       {
        "actors": "john david washington, robert pattinson, elizabeth debicki, kenneth branagh, dimple kapadia, himesh patel, aaron taylor-johnson, michael caine, clémence poésy, martin donovan",
        "director": "christopher nolan",
        "distributor": "warner",
        "duration": "155 min.",
        "genres": "acción, thriller, ciencia ficción",
        "origin": "reino unido, estados unidos",
        "rated": "n/a",
        "synopsis": "Armado solamente con una palabra, Tenet, el protagonista deberá luchar por la supervivencia del mundo entero y evitar la Tercera Guerra Mundial, en una historia de espionaje internacional. La misión se desplegará más allá del tiempo real. No son viajes en el tiempo, es inversión.",
        "title": "TENET"
       },
       {
        "actors": "justin timberlake, anna kendrick, sam rockwell, chance the rapper, anthony ramos, karan soni, flula borg, jamie dornan, james corden, kunal nayyar",
        "director": "walt dohrn",
        "distributor": "uip",
        "duration": "90 min.",
        "genres": "animación, familia, comedia, fantasía, aventura, música",
        "origin": "estados unidos",
        "rated": "n/a",
        "synopsis": "En una aventura que les llevará más allá de todo lo que habían conocido, Poppy y Branch descubren que su tribu de Trolls es solo una de las seis que existen, que el resto están repartidas en seis reinos y consagradas a seis tipos distintos de música: funk, country, tecno, clásica, pop y rock. La reina Bárbara, miembro de la realeza del hard rock, y su padre, el Rey Metal, quieren acabar con el resto de géneros musicales e imponer el reinado del rock. Con el destino del mundo en juego, Poppy y Branch, junto con el resto de la pandilla — Grandullón, Chanelle, Satén, Cooper y Guy Diamante—, visitarán los demás reinos para unir a los Trolls contra los planes de Barb de eclipsarlos a todos.",
        "title": "TROLLS 2: GIRA MUNDIAL"
       },
       {
        "actors": "begona vargas, maría ballesteros, javier botet, sergio castellanos, josé luis de madariaga, iván marcos, bea segura, pablo vázquez",
        "director": "albert pintó",
        "distributor": "bf paris",
        "duration": "110 min.",
        "genres": "terror",
        "origin": "españa",
        "rated": "n/a",
        "synopsis": "Finales de los años 70 en plena España de la Transición. La familia Olmedo se traslada del pueblo a la ciudad en busca de la prosperidad que parece ofrecerles la capital. Se instalan en un antiguo piso en el número 32 de la calle Manuela Malasaña de Madrid. Pero ninguno de ellos sabe que la casa que han comprado tiene más sombras que luces, y no están solos… Algo que desconocen pondrá en peligro sus vidas y tendrán que defenderse. Una película de terror inspirada en hechos reales dirigida por Albert Pintó, responsable de la premiada Matar a Dios (2017). Con Sergio Castellanos, Begoña Vargas, Iván Marcos, Bea Segura, Concha Velasco y Javier Botet.",
        "title": "MALASAÑA 32"
       },
       {
        "actors": "anne hathaway, octavia spencer, stanley tucci, jahzir bruno, chris rock, codie-lei eastick, kristin chenoweth, brian bovell, charles edwards, morgana robinson",
        "director": "robert zemeckis",
        "distributor": "warner",
        "duration": "99 min.",
        "genres": "familia, fantasía, aventura, comedia, terror",
        "origin": "estados unidos, mexico",
        "rated": "n/a",
        "synopsis": "Un pequeño huérfano a finales de 1967, se va a vivir con su querida abuela a Demopolis, un pueblo de Alabama. El niño y su abuela tienen extraños encuentros con algunas brujas por lo que deciden mudarse a un hotel de lujo en la costa. Por desgracia, llegan exactamente al mismo tiempo que la Gran Bruja que ha reunido a sus compinches de todo el planeta -que van de incógnito- para llevar a cabo sus horribles planes.",
        "title": "LAS BRUJAS"
       }
      ],
      "text/plain": [
       "<IPython.core.display.JSON object>"
      ]
     },
     "execution_count": 186,
     "metadata": {
      "application/json": {
       "expanded": false,
       "root": "root"
      }
     },
     "output_type": "execute_result"
    }
   ],
   "source": [
    "from selenium.webdriver.common.by import By\n",
    "from selenium.webdriver.support.ui import WebDriverWait\n",
    "from selenium.webdriver.support import expected_conditions as EC\n",
    "\n",
    "from IPython.display import JSON\n",
    "\n",
    "from scrapy.selector import Selector\n",
    "\n",
    "def normalize(s):\n",
    "    replacements = (\n",
    "        (\"á\", \"a\"),\n",
    "        (\"é\", \"e\"),\n",
    "        (\"í\", \"i\"),\n",
    "        (\"ó\", \"o\"),\n",
    "        (\"ú\", \"u\"),\n",
    "    )\n",
    "    \n",
    "    for a, b in replacements:\n",
    "        s = s.lower().replace(a, b)\n",
    "        \n",
    "    return s\n",
    "\n",
    "def get_technical_fields(x):\n",
    "    html = x.find_element_by_xpath(\"//*[@id='tecnicos']\").get_attribute(\"innerHTML\")\n",
    "    \n",
    "    fields_content = Selector(text=html).xpath(\"//p/text()\").getall()\n",
    "    fields_content = [field.strip(': \\n') for field in fields_content if field.strip()]\n",
    "    \n",
    "    fields_name = Selector(text=html).xpath(\"//p/strong/text()\").getall()\n",
    "    fields_name = map(normalize, fields_name)\n",
    "    \n",
    "    return dict(zip(fields_name, fields_content))\n",
    "\n",
    "\n",
    "movies = driver.find_elements_by_xpath(\"//div[contains(@class, 'movie-grid')]/div/a\")\n",
    "movies_links = [m.get_attribute('href') for m in movies]\n",
    "\n",
    "data = []\n",
    "\n",
    "for link in movies_links:\n",
    "    driver.get(link)\n",
    "    \n",
    "    WebDriverWait(driver, 2).until(\n",
    "        EC.visibility_of_element_located((By.CSS_SELECTOR, \".title > * > .title-text\"))\n",
    "    )  \n",
    "    \n",
    "    technical_fields = get_technical_fields(driver)\n",
    "        \n",
    "    data.append({\n",
    "        \"title\": driver.find_element_by_css_selector(\".title > * > .title-text\").text,\n",
    "        \"synopsis\": driver.find_element_by_css_selector(\"#sinopsis\").text,\n",
    "        \"origin\": technical_fields.get('origen'),\n",
    "        \"genres\": technical_fields.get('genero'),\n",
    "        \"director\": technical_fields.get('director'),\n",
    "        \"actors\": technical_fields.get('actores'),\n",
    "        \"rated\": technical_fields.get('calificacion'),\n",
    "        \"duration\": technical_fields.get('duracion'),\n",
    "        \"distributor\": technical_fields.get('distribuidora'),\n",
    "        \"released\": None,\n",
    "        \"source\": \"Cinépolis\"\n",
    "    })\n",
    "    \n",
    "JSON(data)"
   ]
  },
  {
   "cell_type": "code",
   "execution_count": 11,
   "id": "martial-internet",
   "metadata": {},
   "outputs": [],
   "source": [
    "%config Completer.use_jedi = False"
   ]
  }
 ],
 "metadata": {
  "kernelspec": {
   "display_name": "Python 3",
   "language": "python",
   "name": "python3"
  },
  "language_info": {
   "codemirror_mode": {
    "name": "ipython",
    "version": 3
   },
   "file_extension": ".py",
   "mimetype": "text/x-python",
   "name": "python",
   "nbconvert_exporter": "python",
   "pygments_lexer": "ipython3",
   "version": "3.8.5"
  }
 },
 "nbformat": 4,
 "nbformat_minor": 5
}
