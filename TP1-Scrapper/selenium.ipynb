{
 "cells": [
  {
   "cell_type": "code",
   "execution_count": 1,
   "id": "satellite-equipment",
   "metadata": {},
   "outputs": [],
   "source": [
    "URL = \"https://www.cinepolis.com.ar/\""
   ]
  },
  {
   "cell_type": "markdown",
   "id": "contained-civilization",
   "metadata": {},
   "source": [
    "# Setup"
   ]
  },
  {
   "cell_type": "code",
   "execution_count": 4,
   "id": "conventional-agency",
   "metadata": {},
   "outputs": [],
   "source": [
    "from selenium import webdriver\n",
    "\n",
    "options = webdriver.ChromeOptions()\n",
    "options.add_argument('--incognito')\n",
    "driver = webdriver.Chrome(executable_path=\"./chromedriver\", options=options)\n",
    "\n",
    "driver.get(URL)"
   ]
  },
  {
   "cell_type": "code",
   "execution_count": 3,
   "id": "express-haiti",
   "metadata": {},
   "outputs": [],
   "source": [
    "driver.close()"
   ]
  },
  {
   "cell_type": "markdown",
   "id": "steady-equipment",
   "metadata": {},
   "source": [
    "# Process"
   ]
  },
  {
   "cell_type": "code",
   "execution_count": 44,
   "id": "electrical-ecology",
   "metadata": {},
   "outputs": [
    {
     "data": {
      "text/plain": [
       "['https://www.cinepolis.com.ar/peliculas/fate-stay-night-heavens-feel-parte-3',\n",
       " 'https://www.cinepolis.com.ar/peliculas/godzilla-vs-kong',\n",
       " 'https://www.cinepolis.com.ar/peliculas/la-noche-mas-larga',\n",
       " 'https://www.cinepolis.com.ar/peliculas/los-intrusos',\n",
       " 'https://www.cinepolis.com.ar/peliculas/la-fabrica-de-suenos',\n",
       " 'https://www.cinepolis.com.ar/peliculas/calles-en-guerra',\n",
       " 'https://www.cinepolis.com.ar/peliculas/corpus-christi',\n",
       " 'https://www.cinepolis.com.ar/peliculas/mujer-maravilla-1984',\n",
       " 'https://www.cinepolis.com.ar/peliculas/el-secreto-del-bosque',\n",
       " 'https://www.cinepolis.com.ar/peliculas/la-noche-magica',\n",
       " 'https://www.cinepolis.com.ar/peliculas/la-leyenda-de-la-viuda',\n",
       " 'https://www.cinepolis.com.ar/peliculas/tom-y-jerry',\n",
       " 'https://www.cinepolis.com.ar/peliculas/tenet',\n",
       " 'https://www.cinepolis.com.ar/peliculas/trolls-2-gira-mundial',\n",
       " 'https://www.cinepolis.com.ar/peliculas/malasana-32',\n",
       " 'https://www.cinepolis.com.ar/peliculas/las-brujas']"
      ]
     },
     "execution_count": 44,
     "metadata": {},
     "output_type": "execute_result"
    }
   ],
   "source": [
    "movies = driver.find_elements_by_xpath(\"//div[contains(@class, 'movie-grid')]/div/a\")\n",
    "movies_links = [m.get_attribute('href') for m in movies]\n",
    "movies_links"
   ]
  },
  {
   "cell_type": "code",
   "execution_count": 46,
   "id": "iraqi-employer",
   "metadata": {},
   "outputs": [
    {
     "data": {
      "text/plain": [
       "'https://www.cinepolis.com.ar/peliculas/fate-stay-night-heavens-feel-parte-3'"
      ]
     },
     "execution_count": 46,
     "metadata": {},
     "output_type": "execute_result"
    }
   ],
   "source": [
    "link = movies_links[0]\n",
    "link"
   ]
  },
  {
   "cell_type": "code",
   "execution_count": 47,
   "id": "hundred-federation",
   "metadata": {},
   "outputs": [],
   "source": [
    "driver.get(link)"
   ]
  },
  {
   "cell_type": "code",
   "execution_count": 48,
   "id": "architectural-arabic",
   "metadata": {},
   "outputs": [
    {
     "data": {
      "text/plain": [
       "'FATE STAY NIGHT HEAVEN’S FEEL: PARTE 3'"
      ]
     },
     "execution_count": 48,
     "metadata": {},
     "output_type": "execute_result"
    }
   ],
   "source": [
    "title = driver.find_element_by_css_selector(\".title > * > .title-text\")\n",
    "title.text"
   ]
  },
  {
   "cell_type": "code",
   "execution_count": 53,
   "id": "charged-league",
   "metadata": {},
   "outputs": [
    {
     "name": "stdout",
     "output_type": "stream",
     "text": [
      "FATE STAY NIGHT HEAVEN’S FEEL: PARTE 3\n",
      "GODZILLA VS. KONG\n",
      "LA NOCHE MÁS LARGA\n",
      "LOS INTRUSOS\n",
      "LA FÁBRICA DE SUEÑOS\n",
      "CALLES EN GUERRA\n",
      "CORPUS CHRISTI\n",
      "MUJER MARAVILLA 1984\n",
      "EL SECRETO DEL BOSQUE\n",
      "LA NOCHE MÁGICA\n",
      "LA LEYENDA DE LA VIUDA\n",
      "TOM Y JERRY\n",
      "TENET\n",
      "TROLLS 2: GIRA MUNDIAL\n",
      "MALASAÑA 32\n",
      "LAS BRUJAS\n"
     ]
    }
   ],
   "source": [
    "from selenium.webdriver.common.by import By\n",
    "from selenium.webdriver.support.ui import WebDriverWait\n",
    "from selenium.webdriver.support import expected_conditions as EC\n",
    "\n",
    "movies = driver.find_elements_by_xpath(\"//div[contains(@class, 'movie-grid')]/div/a\")\n",
    "movies_links = [m.get_attribute('href') for m in movies]\n",
    "\n",
    "for link in movies_links:\n",
    "    driver.get(link)\n",
    "    \n",
    "    WebDriverWait(driver, 2).until(\n",
    "        EC.visibility_of_element_located((By.CSS_SELECTOR, \".title > * > .title-text\"))\n",
    "    )\n",
    "    \n",
    "    title = driver.find_element_by_css_selector(\".title > * > .title-text\")\n",
    "    print(title.text)\n"
   ]
  }
 ],
 "metadata": {
  "kernelspec": {
   "display_name": "Python 3",
   "language": "python",
   "name": "python3"
  },
  "language_info": {
   "codemirror_mode": {
    "name": "ipython",
    "version": 3
   },
   "file_extension": ".py",
   "mimetype": "text/x-python",
   "name": "python",
   "nbconvert_exporter": "python",
   "pygments_lexer": "ipython3",
   "version": "3.8.5"
  }
 },
 "nbformat": 4,
 "nbformat_minor": 5
}
